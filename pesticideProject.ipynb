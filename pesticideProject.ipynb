{
 "cells": [
  {
   "cell_type": "code",
   "execution_count": 1,
   "id": "4524f87a-d5a1-4cef-b65d-054917318460",
   "metadata": {
    "tags": []
   },
   "outputs": [],
   "source": [
    "# Import packages\n",
    "import arcpy\n",
    "from arcpy import env\n",
    "from arcpy.sa import *"
   ]
  },
  {
   "cell_type": "code",
   "execution_count": 3,
   "id": "5e724e86-144b-4fd2-a913-a36cbcd527ae",
   "metadata": {},
   "outputs": [],
   "source": [
    "# Set working directory\n",
    "env.workspace = r\"C:\\Users\\bensn\\Box\\GRG350\\Project\"\n",
    "\n",
    "# Enable the option to overwrite\n",
    "env.overwriteOutput = True"
   ]
  },
  {
   "cell_type": "code",
   "execution_count": null,
   "id": "6bf75c75-b944-4e71-930c-50d817bcf13f",
   "metadata": {
    "tags": []
   },
   "outputs": [],
   "source": [
    "# Import our dem\n",
    "dem = <\"dem.tif\">"
   ]
  },
  {
   "cell_type": "code",
   "execution_count": null,
   "id": "ea9368fc-6834-4177-8536-9e0616083b9a",
   "metadata": {
    "tags": []
   },
   "outputs": [],
   "source": [
    "# Set environment cell size and extent to be equal to that of the dem\n",
    "env.cellSize = dem\n",
    "env.extent = dem"
   ]
  },
  {
   "cell_type": "code",
   "execution_count": null,
   "id": "38a6b058-be61-4858-b864-303dea1509be",
   "metadata": {},
   "outputs": [],
   "source": [
    "# Clip dem by study area (Louisiana?)\n",
    "arcpy.management.Clip(<\"dem.tif\">, rectangle, <\"dem_clipped.tif\">)"
   ]
  },
  {
   "cell_type": "code",
   "execution_count": null,
   "id": "fad792e0-19a6-4819-916b-9c98bbcb0b57",
   "metadata": {},
   "outputs": [],
   "source": [
    "# Calculate flow direction raster with D8 algorithm\n",
    "fd = FlowDirection(<\"dem_clipped.tif\">, flow_direction_type=\"D8\")\n",
    "\n",
    "# Save this raster\n",
    "fd.save(<\"fd.tif\">)"
   ]
  },
  {
   "cell_type": "code",
   "execution_count": null,
   "id": "bdf5a765-8cb4-4e82-a12e-341b0a2ee650",
   "metadata": {
    "tags": []
   },
   "outputs": [],
   "source": [
    "# Calculate the flow accumulation raster\n",
    "facc = FlowAccumulation(fd, data_type=\"INTEGER\")\n",
    "\n",
    "#Save this raster\n",
    "facc1.save(<\"facc.tif\">)"
   ]
  },
  {
   "cell_type": "code",
   "execution_count": 14,
   "id": "23a7eda4-3ecd-40d3-9d78-52f59e06163c",
   "metadata": {
    "tags": []
   },
   "outputs": [],
   "source": [
    "# Calculate total pounds of fertilizer applied\n",
    "\n",
    "# Pounds of fertilizer per acre\n",
    "soy_fert = (88 + 57 + 22 + 20) / 4\n",
    "corn_fert = (150 + 64 + 77 + 19) / 4\n",
    "cotton_fert = (95 + 51 + 77 + 16) / 4\n",
    "\n",
    "# Acres in Madison Parish growing each crop type\n",
    "soy_acre = 105122.0\n",
    "corn_acre = 36033.0\n",
    "cotton_acre = 26396.0\n",
    "\n",
    "# Weighted average Madison Parish fertilizer use (lbs / acre)\n",
    "total_acre = soy_acre + corn_acre + cotton_acre\n",
    "avg_fert = (soy_fert * (soy_acre / total_acre))  + (corn_fert * (corn_acre / total_acre)) + (cotton_fert * (cotton_acre / total_acre))"
   ]
  },
  {
   "cell_type": "code",
   "execution_count": null,
   "id": "76db494c-0fe4-4289-be7c-d2881c0e8842",
   "metadata": {},
   "outputs": [],
   "source": [
    "# Multiply the flow accumulation raster by the average fertilizer use\n",
    "faccmult = Raster(facc*avg_fert)"
   ]
  },
  {
   "cell_type": "code",
   "execution_count": null,
   "id": "3ee1f407-8159-4fdc-8722-5caf621fb05a",
   "metadata": {},
   "outputs": [],
   "source": []
  },
  {
   "cell_type": "code",
   "execution_count": null,
   "id": "1b85b976-0e14-474e-bad5-b725305fc5b5",
   "metadata": {},
   "outputs": [],
   "source": []
  },
  {
   "cell_type": "code",
   "execution_count": null,
   "id": "feb060c4-3c5f-47c0-8288-4ac41fb5d5a4",
   "metadata": {
    "tags": []
   },
   "outputs": [],
   "source": [
    "# 1.) clip data to relevant watershet -- Ouchata River Basin"
   ]
  },
  {
   "cell_type": "code",
   "execution_count": null,
   "id": "4a9c96e2-e627-4590-a6f1-05c80131de01",
   "metadata": {
    "tags": []
   },
   "outputs": [],
   "source": [
    "# 2.) calculate DEM, flow accumulation, flow direction"
   ]
  },
  {
   "cell_type": "code",
   "execution_count": null,
   "id": "bedb8dad-8871-498f-94cf-49e61a00a5fa",
   "metadata": {},
   "outputs": [],
   "source": [
    "# 3.) raster calculator: multiply flow accumulation by average pesticide use"
   ]
  }
 ],
 "metadata": {
  "kernelspec": {
   "display_name": "Python 3 (ipykernel)",
   "language": "python",
   "name": "python3"
  },
  "language_info": {
   "codemirror_mode": {
    "name": "ipython",
    "version": 3
   },
   "file_extension": ".py",
   "mimetype": "text/x-python",
   "name": "python",
   "nbconvert_exporter": "python",
   "pygments_lexer": "ipython3",
   "version": "3.9.16"
  }
 },
 "nbformat": 4,
 "nbformat_minor": 5
}
