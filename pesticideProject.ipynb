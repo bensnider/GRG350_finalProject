{
 "cells": [
  {
   "cell_type": "code",
   "execution_count": null,
   "id": "feb060c4-3c5f-47c0-8288-4ac41fb5d5a4",
   "metadata": {},
   "outputs": [],
   "source": [
    "# 1.) clip data to relevant watershet -- Ouchata River Basin"
   ]
  },
  {
   "cell_type": "code",
   "execution_count": null,
   "id": "4a9c96e2-e627-4590-a6f1-05c80131de01",
   "metadata": {},
   "outputs": [],
   "source": [
    "# 2.) calculate DEM, flow accumulation, flow direction"
   ]
  },
  {
   "cell_type": "code",
   "execution_count": null,
   "id": "bedb8dad-8871-498f-94cf-49e61a00a5fa",
   "metadata": {},
   "outputs": [],
   "source": [
    "# 3.) raster calculator: multiply flow accumulation by average pesticide use"
   ]
  }
 ],
 "metadata": {
  "kernelspec": {
   "display_name": "Python 3 (ipykernel)",
   "language": "python",
   "name": "python3"
  },
  "language_info": {
   "codemirror_mode": {
    "name": "ipython",
    "version": 3
   },
   "file_extension": ".py",
   "mimetype": "text/x-python",
   "name": "python",
   "nbconvert_exporter": "python",
   "pygments_lexer": "ipython3",
   "version": "3.9.16"
  }
 },
 "nbformat": 4,
 "nbformat_minor": 5
}
