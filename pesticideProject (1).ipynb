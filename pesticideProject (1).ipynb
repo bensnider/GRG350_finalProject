{
 "cells": [
  {
   "cell_type": "code",
   "execution_count": 1,
   "id": "feb060c4-3c5f-47c0-8288-4ac41fb5d5a4",
   "metadata": {},
   "outputs": [],
   "source": [
    "# 1.) clip data to relevant watershet -- Ouchata River Basin"
   ]
  },
  {
   "cell_type": "code",
   "execution_count": 2,
   "id": "4a9c96e2-e627-4590-a6f1-05c80131de01",
   "metadata": {},
   "outputs": [],
   "source": [
    "# 2.) calculate DEM, flow accumulation, flow direction"
   ]
  },
  {
   "cell_type": "code",
   "execution_count": 3,
   "id": "bedb8dad-8871-498f-94cf-49e61a00a5fa",
   "metadata": {},
   "outputs": [],
   "source": [
    "# 3.) raster calculator: multiply flow accumulation by average pesticide use"
   ]
  },
  {
   "cell_type": "code",
   "execution_count": 4,
   "id": "675441c3-a3a6-48f5-8088-503d3d8ed978",
   "metadata": {},
   "outputs": [],
   "source": [
    "import arcpy\n",
    "from arcpy import env\n",
    "import pandas as pd\n",
    "import os"
   ]
  },
  {
   "cell_type": "code",
   "execution_count": 5,
   "id": "f78bd891-0716-4603-9268-63bab93fd71e",
   "metadata": {},
   "outputs": [],
   "source": [
    "path = r'C:\\Users\\ceg3699\\Box\\Geoprocessing Fall 24\\FinalProject'"
   ]
  },
  {
   "cell_type": "code",
   "execution_count": 6,
   "id": "1f7b028f-b8c8-4cf9-a3c5-04b5deeb44cd",
   "metadata": {},
   "outputs": [],
   "source": [
    "env.workspace = path\n",
    "env.overwriteOutput = True"
   ]
  },
  {
   "cell_type": "code",
   "execution_count": 14,
   "id": "d6081e86-1b35-44c1-b6d5-a227cde0b968",
   "metadata": {},
   "outputs": [],
   "source": [
    "demRasters = [\"USGS_1_n33w094_20230609.tif\", \"USGS_1_n33w093_20230609.tif\", \"USGS_1_n33w092_20221121.tif\", \"USGS_1_n32w093_20230609.tif\", \"USGS_1_n32w092_20230609.tif\"]\n",
    "demOutput = \"finalRaster.tif\""
   ]
  },
  {
   "cell_type": "code",
   "execution_count": 16,
   "id": "1470fb6a-9ab4-4eef-9333-f167988424a4",
   "metadata": {},
   "outputs": [
    {
     "data": {
      "text/html": [
       "<div class='gpresult'><h2>Messages</h2><div id='messages'>Start Time: Friday, November 15, 2024 2:12:39 PM<br>Building Pyramids...<br>Succeeded at Friday, November 15, 2024 2:12:46 PM (Elapsed Time: 6.49 seconds)<br></div><div id = 'default' /></div></div>"
      ],
      "text/plain": [
       "<Result 'C:\\\\Users\\\\ceg3699\\\\Box\\\\Geoprocessing Fall 24\\\\FinalProject\\\\finalRaster.tif'>"
      ]
     },
     "execution_count": 16,
     "metadata": {},
     "output_type": "execute_result"
    }
   ],
   "source": [
    "arcpy.management.MosaicToNewRaster(demRasters, path, demOutput, number_of_bands = 1)"
   ]
  },
  {
   "cell_type": "code",
   "execution_count": null,
   "id": "3a1aefcf-51df-464d-9e7c-ebd39e191503",
   "metadata": {},
   "outputs": [],
   "source": []
  }
 ],
 "metadata": {
  "kernelspec": {
   "display_name": "Python 3 (ipykernel)",
   "language": "python",
   "name": "python3"
  },
  "language_info": {
   "codemirror_mode": {
    "name": "ipython",
    "version": 3
   },
   "file_extension": ".py",
   "mimetype": "text/x-python",
   "name": "python",
   "nbconvert_exporter": "python",
   "pygments_lexer": "ipython3",
   "version": "3.11.8"
  }
 },
 "nbformat": 4,
 "nbformat_minor": 5
}
